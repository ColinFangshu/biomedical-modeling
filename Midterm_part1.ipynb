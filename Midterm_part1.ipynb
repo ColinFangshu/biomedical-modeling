{
 "cells": [
  {
   "cell_type": "markdown",
   "metadata": {},
   "source": [
    "<h1 style=\"text-align:center; font-size:24\">\n",
    "BTRY 4381/6381 – Biomedical Data Mining and Modeling <br>\n",
    "Midterm (Part 1)<br>\n",
    "Due Monday, October 28, 11:59 PM <br>\n",
    "</h1>"
   ]
  },
  {
   "cell_type": "markdown",
   "metadata": {},
   "source": [
    "<div style=\"background-color: #e6e6e6; border-color: #999999; border-left: 5px solid #999999; padding: 1.5em; color: #666666\">\n",
    "**INSTRUCTIONS:** In order to complete this assignment, you will need to log into the teaching server (bscb-teaching.cb.bscb.cornell.edu). *Create a directory called midterm in your home directory and save a copy of this notebook and any intermediate files you create in midterm.* You will be graded based on the content of this directory and your notebook on the teaching server at the time of collection. Some grading steps will be automated so it is very important that you follow all instructions **including the naming of variables or functions where dictated and the formating of any outputs or print statements.** Late submissions and submissions not adhering to the guidelines will be penalized.\n",
    "\n",
    "**This notebook template** and other useful files, including the starting data structures for each of the following problems, are available in \"/home/local/CORNELL/public/midterm_files\".\n",
    "\n",
    "**NOTE:** It is *VERY IMPORTANT* that after you have completed your assignment, you test it by clicking **KERNEL** and selecting **RESTART & RUN ALL** from the drop-down menu. If your solution cannot be run in one go from start to finish I will have to do some manual fiddling with your assignment. I will not be pleased, and I will deduct points.\n",
    "\n",
    "**THIS IS AN EXAM:** You may refer to all course materials, and may continue to modify any code that I have given you as a reference, however, **you may not confer with any person except the professor or the TA**. Please ask **only vague or interpretation related question** publicly on Piazza please **DO NOT** post any questions involving your actual solutions unless they are marked private.\n",
    "\n",
    "*To increase your chances of earning partial credit, comment your code thoroughly and organize it well using best principles to aid readability and decrease redundancy.*\n",
    "<div/>"
   ]
  },
  {
   "cell_type": "code",
   "execution_count": null,
   "metadata": {},
   "outputs": [],
   "source": []
  },
  {
   "cell_type": "markdown",
   "metadata": {},
   "source": [
    "<h3 style=\"background-color: #daebff; border-color: #bad5f6; border-left: 5px solid #bad5f6; padding: 1.5em; color: #6f89a9\">\n",
    "Problem 1 Analysis of CloneSeq Data for Rough Variant Calling (33pts)\n",
    "</h3>"
   ]
  },
  {
   "cell_type": "markdown",
   "metadata": {},
   "source": [
    "For the first chunk of your midterm, we will be working with a toy example for the CloneSeq Pipeline that Dr. Yu mentioned in his lecture (Lecture 4). This is a daunting task, but do not worry, because I will break the entire thing down into all of the sub-components associated with the task, and we will build the solution incrementally.\n",
    "\n",
    "The main setup for the CloneSeq pipeline is as follows...\n",
    "1. You want to generate a set of specific point mutations in coding sequences for specific genes.\n",
    "2. You have already carried out the experiments intended to generate these mutations, and now you need to confirm that they have been generated correctly.\n",
    "3. You have already performed next generation sequencing on all of the mutant sequences you have generated.\n",
    "4. Your task is to analyze this sequencing data to check that...\n",
    "   - The desired mutation is present\n",
    "   - No undesried mutations are present\n",
    "\n",
    "**NOTE:** When we \"generate a set of specific point mutations\" we mean that we generate one clone for the gene per point mutation. If we wanted to generate mutations 135_T100G and 135_A200C we would generate two copies of gene 135, one where we try to mutate position 100 to a G and one where we try to mutation position 200 to a C. When we do our final sequencing, there should be two distinct clones of 135 and they should appear at roughly equal proportions. In an ideal case scenario, we would expect to see ~50% of our reads contain the reference nucleotide and ~50% of our reads contain each of the mutant nucleotides.\n",
    "- If we observed 95% of reads aligned to position 100 were T and the remaining 5% were something else, we would know we failed to generate the 135_T100C mutation.\n",
    "- If we observed 55% of reads aligned to position 200 were A, 43% were C and another 2% were something else, we may conclude that the mutation 135_A200_C was generated successfully.\n",
    "\n",
    "We will come back to that main pipeline in the end, but to start off, I will walk you through each of the individual sub-tasks that may be relevant to completing these two main tasks."
   ]
  },
  {
   "cell_type": "markdown",
   "metadata": {},
   "source": [
    "<div style=\"background-color: #daebff; border-color: #bad5f6; border-left: 5px solid #bad5f6; padding: 1.5em; color: #6f89a9\">\n",
    "**1.a (1pt):** Now we will start to look at our actual sequencing data.\n",
    "\n",
    "I have provided you with a sequencing file, **Clone_Seq.fastq** which contains a the sequencing results for your mutations attempts. I have also provided you with a reference file **Gene_Refs.fasta** that contains all of the coding sequences you are working with.\n",
    "\n",
    "The first step for analyzing your sequencing results, will be to align them to your set of reference sequences using BWA.\n",
    "\n",
    "To do this, you will first want to generate a BWA index file for your reference. <br>\n",
    "\n",
    "**Hint**: you can refer to lab session 4 for help.\n",
    "<div/>"
   ]
  },
  {
   "cell_type": "markdown",
   "metadata": {},
   "source": [
    "<div style=\"background-color: #fffee8; border-color: #f6f4c7; border-left: 5px solid #f6f4c7; padding: 1.5em; color: #a9a778\">\n",
    "**WARNING:** For grading purposes you **MUST** use the specified variable names since I will be checking values based on pre-selected variable names.. \n",
    "<div/>"
   ]
  },
  {
   "cell_type": "code",
   "execution_count": 2,
   "metadata": {},
   "outputs": [],
   "source": [
    "sequencing_fasta='/home/local/CORNELL/public/midterm_files/Clone_Seq.fastq'\n",
    "ref_fasta='/home/local/CORNELL/public/midterm_files/Gene_Refs.fasta'"
   ]
  },
  {
   "cell_type": "code",
   "execution_count": 3,
   "metadata": {},
   "outputs": [],
   "source": [
    "f=open(ref_fasta)\n",
    "ref_rows=[row.strip() for row in f.readlines()]\n",
    "f.close()\n",
    "\n",
    "f=open(sequencing_fasta)\n",
    "seq_rows=[row.strip() for row in f.readlines()]\n",
    "f.close()\n",
    "\n",
    "\n",
    "\n",
    "# You will be evaluated based on presence of the files created by your system calls"
   ]
  },
  {
   "cell_type": "markdown",
   "metadata": {},
   "source": [
    "___"
   ]
  },
  {
   "cell_type": "markdown",
   "metadata": {},
   "source": [
    "<div style=\"background-color: #daebff; border-color: #bad5f6; border-left: 5px solid #bad5f6; padding: 1.5em; color: #6f89a9\">\n",
    "**1.b (2pt):** Now that you have generated an index file, you will be able to complete the BWA alignment on your sequencing files.\n",
    "\n",
    "Save the output file to a file named **Clone_Seq_Aligned.sam**.<br>\n",
    "\n",
    "**Hint**: you can refer to lab session 4 for help.\n",
    "<div/>"
   ]
  },
  {
   "cell_type": "code",
   "execution_count": 47,
   "metadata": {},
   "outputs": [],
   "source": [
    "#\n",
    "#\n",
    "#\n",
    "#\n",
    "# Your code goes here. You may use / insert as many cells as you find necessary.\n",
    "#\n",
    "#\n",
    "#\n",
    "#"
   ]
  },
  {
   "cell_type": "markdown",
   "metadata": {},
   "source": [
    "___"
   ]
  },
  {
   "cell_type": "markdown",
   "metadata": {},
   "source": [
    "<div style=\"background-color: #daebff; border-color: #bad5f6; border-left: 5px solid #bad5f6; padding: 1.5em; color: #6f89a9\">\n",
    "**1.c (5pt):** Now we will begin to parse this SAM file. \n",
    "\n",
    "Perform the following post-processing steps...\n",
    "1. Remove any reads that did not align to any of the reference sequences\n",
    "2. Remove any reads that did not align with one of the following flags [0]\n",
    "3. Group the reads by the reference they align to\n",
    "\n",
    "After you have completed these steps, generate the following variables...\n",
    "1. *tot_alignments* - The total number of reads left after filtering\n",
    "2. *num_refs* - The number of unique references aligned to across all your reads\n",
    "3. *reads_per_ref* - A dictionary mapping unique reference IDs to the number of reads aligned to that reference\n",
    "4. *average_quality* - The average mapping quality for all reads left after filtering\n",
    "5. *aligned_x* - Your grouping of reads aligned to reference *gene_x* (defined below). This should just be a list of dictionaries, in the same format as the output from **parse_sam** function you defined in hw2 2d. \n",
    "\n",
    "<div/>"
   ]
  },
  {
   "cell_type": "code",
   "execution_count": 2,
   "metadata": {},
   "outputs": [],
   "source": [
    "gene_x='5174'"
   ]
  },
  {
   "cell_type": "code",
   "execution_count": 51,
   "metadata": {},
   "outputs": [],
   "source": [
    "#\n",
    "#\n",
    "#\n",
    "#\n",
    "# Your code goes here. You may use / insert as many cells as you find necessary.\n",
    "#\n",
    "#\n",
    "#\n",
    "#\n",
    "\n",
    "tot_alignments = None # Replace with your final result\n",
    "num_refs = None # Replace with your final result\n",
    "reads_per_ref = None # Replace with your final result\n",
    "average_quality = None # Replace with your final result\n",
    "aligned_x = None # Replace with your final result"
   ]
  },
  {
   "cell_type": "markdown",
   "metadata": {},
   "source": [
    "___"
   ]
  },
  {
   "cell_type": "markdown",
   "metadata": {},
   "source": [
    "<div style=\"background-color: #daebff; border-color: #bad5f6; border-left: 5px solid #bad5f6; padding: 1.5em; color: #6f89a9\">\n",
    "**1.d (5pt):** Now we will make sure that we can parse the read counts for a particular gene. Using your *aligned_x* solution from above, and your *get_read_counts* function defined in hw2 2i, generate the read counts for every position in *gene_x*. Store this result in *read_counts_x*.\n",
    "\n",
    "Once you have these read counts generate the following...\n",
    "1. *average_counts* - The average number of counts for each nucelotide across all positions. Should be a dictionary mapping \"A\", \"T\", \"C\", and \"G\" to their average counts.\n",
    "2. *dominant_nucl* - A list of which nucelotide has the most reads at each position. Should just be a list like [\"A\", \"T\", \"G\"] I will infer the position from the index in the list.\n",
    "\n",
    "<div/>"
   ]
  },
  {
   "cell_type": "code",
   "execution_count": 54,
   "metadata": {},
   "outputs": [],
   "source": [
    "#\n",
    "#\n",
    "#\n",
    "#\n",
    "# Your code goes here. You may use / insert as many cells as you find necessary.\n",
    "#\n",
    "#\n",
    "#\n",
    "#\n",
    "\n",
    "read_counts_x = None # Replace with your final result\n",
    "average_counts = None # Replace with your final result\n",
    "dominant_nucl = None # Replace with your final result"
   ]
  },
  {
   "cell_type": "markdown",
   "metadata": {},
   "source": [
    "___"
   ]
  },
  {
   "cell_type": "markdown",
   "metadata": {},
   "source": [
    "<div style=\"background-color: #f7ffe7; border-color: #ddecbe; border-left: 5px solid #ddecbe; padding: 1.5em; color: #909f70\">\n",
    "**NOTE:** The following questions, **1.e** through **1.g** constitute a single contained block of questions that all build upon each other incrementally. These questions **are worth 15pts in total**.\n",
    "\n",
    "This block is concerned with detecting mutations from sequencing data.\n",
    "<div/>"
   ]
  },
  {
   "cell_type": "markdown",
   "metadata": {},
   "source": [
    "<div style=\"background-color: #daebff; border-color: #bad5f6; border-left: 5px solid #bad5f6; padding: 1.5em; color: #6f89a9\">\n",
    "**1.e (5pt):** Do whatever you feel is appropriate to identify anything that you think is a mutation with respect to the reference sequence based on your read counts. You will continue to work with the read counts previously generated and stored in *read_counts_x*.\n",
    "\n",
    "**KEEP IN MIND** that for this particular gene, we tried to generate two mutations. The full list of mutations attempted on each gene are listed in **Attempted_Muts.txt** (described in the next problem). That means that there are **TWO COPIES OF THIS GENE** in your sequencing pool (one that should have the first mutation, and one that should have the second mutation) and that each clone of the gene should appear at roughly equal proportions. You may want to keep this in mind when determining how you identify mutations. Your solution should be generalizable to genes with any number of mutations tested (i.e. where individual clones of the gene can appear at 100%, 50%, 33%, 25% ... of the total reads), and you should refer to the **Attempted_Muts.txt** file to get this number.\n",
    "\n",
    "Obtain a list of all of the mutations you identify, where each element in the list is a String formatted as [REF_ID]_[REF_NT][REF_POS][SANG_NT]. Store this information in a variable called *mutants_x*. You should be sure to report these mutants with **1-indexed** positions so that they are interpretable by biologists.\n",
    "\n",
    "For instance, if you had the following sequences and your reference was 135...\n",
    "\n",
    "```\n",
    "REF     ATG ACA CAG\n",
    "            | | || \n",
    "SANGER      ATA CAT\n",
    "```\n",
    "\n",
    "You would report two mutations, \"135_C5T\" and \"135_G9T\".\n",
    "\n",
    "<div/>"
   ]
  },
  {
   "cell_type": "code",
   "execution_count": 57,
   "metadata": {},
   "outputs": [],
   "source": [
    "attempted_muts = '/home/local/CORNELL/public/midterm_files/Attempted_Muts.txt'"
   ]
  },
  {
   "cell_type": "code",
   "execution_count": 58,
   "metadata": {},
   "outputs": [],
   "source": [
    "#\n",
    "#\n",
    "#\n",
    "#\n",
    "# Your code goes here. You may use / insert as many cells as you find necessary.\n",
    "#\n",
    "#\n",
    "#\n",
    "#\n",
    "\n",
    "mutants_x = None # Replace with your final result"
   ]
  },
  {
   "cell_type": "markdown",
   "metadata": {},
   "source": [
    "___"
   ]
  },
  {
   "cell_type": "markdown",
   "metadata": {},
   "source": [
    "<div style=\"background-color: #daebff; border-color: #bad5f6; border-left: 5px solid #bad5f6; padding: 1.5em; color: #6f89a9\">\n",
    "**1.f (4pt):** I have provided you with a file containing all of the expected mutations that I want to see in this experiment as **Attempted_Muts.txt**. This file lists expected mutations in the format described in the previous question.\n",
    "\n",
    "Parse this file to identify all of the mutants that were supposed to appear in *gene_x*. For each of these mutations, determine if it was successfully generated. Separately, determine if there are any mutations generated aside from those that were attempted.\n",
    "\n",
    "Generate two variables...\n",
    "1. *mut_status* - A dictionary that maps each of the mutations that should have been generated for this gene to their status, True if you detected it, False otherwise\n",
    "2. *clean* - True if no undesired mutations were detected, False otherwise.\n",
    "<div/>"
   ]
  },
  {
   "cell_type": "code",
   "execution_count": 4,
   "metadata": {},
   "outputs": [],
   "source": [
    "attempted_muts = '/home/local/CORNELL/public/midterm_files/Attempted_Muts.txt'"
   ]
  },
  {
   "cell_type": "code",
   "execution_count": 63,
   "metadata": {},
   "outputs": [],
   "source": [
    "#\n",
    "#\n",
    "#\n",
    "#\n",
    "# Your code goes here. You may use / insert as many cells as you find necessary.\n",
    "#\n",
    "#\n",
    "#\n",
    "#\n",
    "\n",
    "mut_status = None # Replace with your final result\n",
    "clean = None # Replace with your final result"
   ]
  },
  {
   "cell_type": "markdown",
   "metadata": {},
   "source": [
    "___"
   ]
  },
  {
   "cell_type": "markdown",
   "metadata": {},
   "source": [
    "<div style=\"background-color: #daebff; border-color: #bad5f6; border-left: 5px solid #bad5f6; padding: 1.5em; color: #6f89a9\">\n",
    "**1.g (6pt):** Now go back to the original SAM file that you generated and parsed in 1.c containing all of the groups of reads aligned to each of the reference genes.\n",
    "\n",
    "Repeat this mutation identifying process on each of these groups. Summarize your ouput in a table that you will write to a file called **Clone_Seq_Summary.txt**. The table should contain one row for each mutation that was attempted in the **Attempted_Muts.txt** file. Each row should be tab-separated to contain the following fields...\n",
    "1. Mut - The mutation attempted\n",
    "2. Status - The status of the mutation (True or False for detected vs. non-detected)\n",
    "3. Other_Muts - A semi-colon delimitted list of any other mutations detected\n",
    "4. Clean - True or False depending on if the gene is clean (has no undesired mutations detected)\n",
    "5. Successfull - True of False depending on if the created mutation should be safe to use (desired mutation must have been generated successfully and no undesired mutations must be present)\n",
    "\n",
    "<div/>"
   ]
  },
  {
   "cell_type": "code",
   "execution_count": 67,
   "metadata": {},
   "outputs": [],
   "source": [
    "#\n",
    "#\n",
    "#\n",
    "#\n",
    "# Your code goes here. You may use / insert as many cells as you find necessary.\n",
    "#\n",
    "#\n",
    "#\n",
    "#"
   ]
  },
  {
   "cell_type": "markdown",
   "metadata": {},
   "source": [
    "<div style=\"background-color: #f7ffe7; border-color: #ddecbe; border-left: 5px solid #ddecbe; padding: 1.5em; color: #909f70\">\n",
    "**NOTE:** This concludes the steps detecting mutations. You will want to re-use most of this for the upcoming section.\n",
    "<div/>"
   ]
  },
  {
   "cell_type": "markdown",
   "metadata": {},
   "source": [
    "___"
   ]
  },
  {
   "cell_type": "markdown",
   "metadata": {},
   "source": [
    "<div style=\"background-color: #f7ffe7; border-color: #ddecbe; border-left: 5px solid #ddecbe; padding: 1.5em; color: #909f70\">\n",
    "**NOTE:** The following question, **1.h** is the final test to demonstrate everything that you have done up to this point. This question **is worth 5pts in total**.\n",
    "<div/>"
   ]
  },
  {
   "cell_type": "markdown",
   "metadata": {},
   "source": [
    "<div style=\"background-color: #daebff; border-color: #bad5f6; border-left: 5px solid #bad5f6; padding: 1.5em; color: #6f89a9\">\n",
    "**1.h (5pt):** I have provided you a second batch of CloneSeq attempted mutations and sequencing results, **Clone_Seq_2.fastq** and **Attempted_Muts_2.fastq**.\n",
    "\n",
    "Combine everything that we have done so far into a function *analyze_clone_seq* that takes in five parameters, *sequencing_file*, *attempted_file*, *reference_file*, *output_file*, and *quality_thresh* and completes the full analysis of the sequencing data to generate the summary file from the previous question.\n",
    "\n",
    "Run this function using the inputs provided below to generate a file **Clone_Seq_Summary_2.txt**.\n",
    "<div/>"
   ]
  },
  {
   "cell_type": "markdown",
   "metadata": {},
   "source": [
    "<div style=\"background-color: #fffee8; border-color: #f6f4c7; border-left: 5px solid #f6f4c7; padding: 1.5em; color: #a9a778\">\n",
    "**WARNING:** For grading purposes you **MUST** use the specified variable names since I will be checking values based on pre-selected variable names.. **This Includes using all of the variables created by the get_input() calls directly rather than entering any input paths or values directly.**\n",
    "<div/>"
   ]
  },
  {
   "cell_type": "code",
   "execution_count": 5,
   "metadata": {},
   "outputs": [],
   "source": [
    "sequencing_file='/home/local/CORNELL/public/midterm_files/Clone_Seq_2.fastq'\n",
    "attempted_file='/home/local/CORNELL/public/midterm_files/Attempted_Muts_2.txt'\n",
    "reference_file='/home/local/CORNELL/public/midterm_files/Gene_Refs.fasta'\n",
    "output_file='Clone_Seq_Summary_2.txt'\n",
    "quality_thresh=30"
   ]
  },
  {
   "cell_type": "code",
   "execution_count": 72,
   "metadata": {},
   "outputs": [],
   "source": [
    "def analyze_clone_seq(sequencing_file, attempted_file, reference_file, output_file, quality_thresh=quality_thresh):\n",
    "    #\n",
    "    #\n",
    "    #\n",
    "    #\n",
    "    # Your code goes here. You may use / insert as many cells as you find necessary.\n",
    "    #\n",
    "    #\n",
    "    #\n",
    "    #\n",
    "    return\n",
    "# FUNCTION END"
   ]
  },
  {
   "cell_type": "markdown",
   "metadata": {},
   "source": [
    "___"
   ]
  },
  {
   "cell_type": "markdown",
   "metadata": {},
   "source": [
    "**Note**: midterm Part 1 ends here. Now let's go to part 2 in Midterm_2.ipynb"
   ]
  }
 ],
 "metadata": {
  "kernelspec": {
   "display_name": "Python 3",
   "language": "python",
   "name": "python3"
  },
  "language_info": {
   "codemirror_mode": {
    "name": "ipython",
    "version": 3
   },
   "file_extension": ".py",
   "mimetype": "text/x-python",
   "name": "python",
   "nbconvert_exporter": "python",
   "pygments_lexer": "ipython3",
   "version": "3.7.3"
  }
 },
 "nbformat": 4,
 "nbformat_minor": 2
}
